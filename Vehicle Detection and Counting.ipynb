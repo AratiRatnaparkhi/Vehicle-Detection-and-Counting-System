{
 "cells": [
  {
   "cell_type": "markdown",
   "id": "9a4ac832",
   "metadata": {},
   "source": [
    "# Vehicle Detection and Counting System using OpenCV"
   ]
  },
  {
   "cell_type": "code",
   "execution_count": 2,
   "id": "b8e9c98a",
   "metadata": {},
   "outputs": [],
   "source": [
    "import cv2\n",
    "import numpy as np\n",
    "from time import sleep"
   ]
  },
  {
   "cell_type": "code",
   "execution_count": 3,
   "id": "c225532a",
   "metadata": {},
   "outputs": [],
   "source": [
    "width_min=80 #Minimum width of the rectangle. \n",
    "height_min=80 #Minimum height of the rectangle.\n",
    "\n",
    "offset=6 #Allowable error between pixel\n",
    "\n",
    "pos_line=550 #Count Line Position (y-coordinate)\n",
    "\n",
    "delay= 60 #60 Video FPS\n",
    "\n",
    "detec = []\n",
    "vehicle = 0 #vehicle counter"
   ]
  },
  {
   "cell_type": "code",
   "execution_count": 4,
   "id": "c1c4da06",
   "metadata": {},
   "outputs": [],
   "source": [
    "#pick up center of bounding rectangles\t\n",
    "def cal_center(x, y, w, h):\n",
    "    x1 = int(w / 2) \n",
    "    y1 = int(h / 2)  \n",
    "    cx = x + x1\n",
    "    cy = y + y1\n",
    "    return cx,cy"
   ]
  },
  {
   "cell_type": "code",
   "execution_count": 9,
   "id": "7a3af31c",
   "metadata": {},
   "outputs": [],
   "source": [
    "vidCap = cv2.VideoCapture('C:\\\\Users\\\\Lenovo\\\\Documents\\\\video.mp4')\n",
    " \n",
    "#initialize OpenCV - Background subtrator for MOG\n",
    "BS_MOG = cv2.bgsegm.createBackgroundSubtractorMOG()"
   ]
  },
  {
   "cell_type": "code",
   "execution_count": 10,
   "id": "e8d4cf8b",
   "metadata": {},
   "outputs": [
    {
     "name": "stdout",
     "output_type": "stream",
     "text": [
      "Vehicle is detected : 1\n",
      "Vehicle is detected : 2\n",
      "Vehicle is detected : 3\n",
      "Vehicle is detected : 4\n",
      "Vehicle is detected : 5\n",
      "Vehicle is detected : 6\n",
      "Vehicle is detected : 7\n",
      "Vehicle is detected : 8\n",
      "Vehicle is detected : 9\n",
      "Vehicle is detected : 10\n",
      "Vehicle is detected : 11\n",
      "Vehicle is detected : 12\n",
      "Vehicle is detected : 13\n",
      "Vehicle is detected : 14\n",
      "Vehicle is detected : 15\n",
      "Vehicle is detected : 16\n",
      "Vehicle is detected : 17\n",
      "Vehicle is detected : 18\n",
      "Vehicle is detected : 19\n",
      "Vehicle is detected : 20\n",
      "Vehicle is detected : 21\n",
      "Vehicle is detected : 22\n",
      "Vehicle is detected : 23\n",
      "Vehicle is detected : 24\n"
     ]
    }
   ],
   "source": [
    "#UNTIL WE READ ALL FRAMES OF VIDEO\n",
    "while vidCap.isOpened():    \n",
    "    ret , frame1 = vidCap.read() #read the next frame\n",
    "    \n",
    "    time = float(1/delay)\n",
    "    sleep(time)\n",
    "    #convert an image from BGR to grayscale format\n",
    "    grey = cv2.cvtColor(frame1,cv2.COLOR_BGR2GRAY)\n",
    "    blur = cv2.GaussianBlur(grey,(3,3),5)#Gaussian filter for image smoothing. Image Smoothing techniques help in reducing the noise.\n",
    "    \n",
    "    img_sub = BS_MOG.apply(blur)#extract the MOG-method of foreground mask\n",
    "    \n",
    "    #apply a series of dilations\n",
    "    dilation = cv2.dilate(img_sub,np.ones((5,5))) #apply a morphological filter to images. Image dilation Increases the object area. \n",
    "    kernel = cv2.getStructuringElement(cv2.MORPH_ELLIPSE, (5, 5))\n",
    "    dilated  = cv2.morphologyEx (dilation, cv2. MORPH_CLOSE , kernel)#It is the difference between dilation and erosion of an image.\n",
    "    dilated  = cv2.morphologyEx (dilated , cv2. MORPH_CLOSE , kernel)\n",
    "\n",
    "    #extract the contours\n",
    "    conts,h = cv2.findContours(dilated,cv2.RETR_TREE,cv2.CHAIN_APPROX_SIMPLE) \n",
    "\n",
    "    #draw the reference traffic line(frame, (x1,y1)(x2,y2),color,thickness)\n",
    "    cv2.line(frame1, (25, pos_line), (1200, pos_line), (255,127,0), 3) \n",
    "\n",
    "    for(i,c) in enumerate(conts):#keep a count of iterations\n",
    "        (x,y,w,h) = cv2.boundingRect(c)\n",
    "\n",
    "        #validate outline to ignore the small counters in size\n",
    "        valid_outline = (w >= width_min) and (h >= height_min)\n",
    "        if not valid_outline: \n",
    "            continue\n",
    "        #draw the bounding rectangle for all counters\n",
    "        cv2.rectangle(frame1,(x,y),(x+w, y+h),(0,255,0),2)  \n",
    "        center = cal_center(x, y, w, h)#center \n",
    "        detec.append(center) #detect\n",
    "        cv2.circle(frame1, center, 4, (0,0,255), -1) #BGR\n",
    "\n",
    "        for (x,y) in detec:\n",
    "            if y<(pos_line+offset) and y>(pos_line-offset):\n",
    "                vehicle+=1\n",
    "                cv2.line(frame1, (25, pos_line), (1200, pos_line), (0,127,255), 3)  \n",
    "                detec.remove((x,y))\n",
    "                print(\"Vehicle is detected : \"+str(vehicle))        \n",
    "\n",
    "    # show the Subtractor and original video\n",
    "    cv2.putText(frame1, \"VEHICLE COUNT : \"+str(vehicle), (450, 70), cv2.FONT_HERSHEY_SIMPLEX, 2, (0, 0, 255),5)\n",
    "    cv2.imshow(\"Original Video\" , frame1)\n",
    "    cv2.imshow(\"Detectar\",dilated)\n",
    "\n",
    "    #wait for esc key to be pressed\n",
    "    if cv2.waitKey(1) == 27: \n",
    "        break\n",
    "        \n",
    "#release video capture    \n",
    "cv2.destroyAllWindows()\n",
    "vidCap.release()\n"
   ]
  }
 ],
 "metadata": {
  "kernelspec": {
   "display_name": "Python 3 (ipykernel)",
   "language": "python",
   "name": "python3"
  },
  "language_info": {
   "codemirror_mode": {
    "name": "ipython",
    "version": 3
   },
   "file_extension": ".py",
   "mimetype": "text/x-python",
   "name": "python",
   "nbconvert_exporter": "python",
   "pygments_lexer": "ipython3",
   "version": "3.9.5"
  }
 },
 "nbformat": 4,
 "nbformat_minor": 5
}
